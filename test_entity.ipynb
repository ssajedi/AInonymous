{
 "cells": [
  {
   "cell_type": "code",
   "execution_count": 1,
   "metadata": {},
   "outputs": [
    {
     "name": "stderr",
     "output_type": "stream",
     "text": [
      "c:\\Users\\SSajedi\\Anaconda3\\envs\\tor2\\lib\\site-packages\\tqdm\\auto.py:21: TqdmWarning: IProgress not found. Please update jupyter and ipywidgets. See https://ipywidgets.readthedocs.io/en/stable/user_install.html\n",
      "  from .autonotebook import tqdm as notebook_tqdm\n"
     ]
    }
   ],
   "source": [
    "from DetectEntity import DetectEntity"
   ]
  },
  {
   "cell_type": "code",
   "execution_count": 2,
   "metadata": {},
   "outputs": [],
   "source": [
    "sample_doc = \"\"\"\n",
    "           ExxonMobil Infrastructure Development Proposal\n",
    "            Executive Summary:\n",
    "            This comprehensive proposal envisions the construction of ExxonMobil's new operational hub, designed to bolster its strategic expansion and operational excellence within the energy sector.\n",
    "            Introduction:\n",
    "            We propose to construct a state-of-the-art facility that reflects ExxonMobil's commitment to innovation, sustainability, and global leadership in energy. The project will span a meticulously selected 35,000-square-foot site in Houston, Texas, with the potential to become a landmark of industrial prowess and architectural ingenuity.\n",
    "            Project Team:\n",
    "            Leading the project will be Chief Project Engineer, Thomas Booker, with over two decades of experience in industrial construction. Architectural design will be spearheaded by Ava Clarke, whose portfolio includes several LEED-certified buildings across Dallas. Our environmental engineering efforts will be led by Dylan Rhodes in Austin, ensuring adherence to the most stringent ecological standards.\n",
    "            Site and Structure:\n",
    "            The facility will be located in the heart of Houston’s Energy Corridor, taking advantage of the area's rich infrastructure and proximity to ExxonMobil’s main operations. Geotechnical assessments and site preparation will be undertaken by San Antonio-based expert, Nora Quintana. The building's framework, designed for resilience and adaptability, will be overseen by structural engineer Alex Johnson from Fort Worth.\n",
    "            Sustainability and Environment:\n",
    "            Sustainability Coordinator, Rachel Santos from Corpus Christi, will implement cutting-edge green technologies, including a state-of-the-art HVAC system designed by El Paso's mechanical engineer, Omar Fernandez. Rainwater harvesting and waste management systems will be developed in collaboration with environmental specialists from Galveston \n",
    "            Email address: test@gmail.com\n",
    "            123-456-7890\n",
    "            \"\"\"\n",
    "\n",
    "dummy_answer = \"OrganizationName1 won the project thanks to PersonName8 who works in LocationName11\""
   ]
  },
  {
   "cell_type": "code",
   "execution_count": 3,
   "metadata": {},
   "outputs": [
    {
     "name": "stdout",
     "output_type": "stream",
     "text": [
      "[{'original': '123-456-7890', 'replaced': '0000000000'}]\n"
     ]
    },
    {
     "data": {
      "text/plain": [
       "\"\\n           ExxonMobil Infrastructure Development Proposal\\n            Executive Summary:\\n            This comprehensive proposal envisions the construction of ExxonMobil's new operational hub, designed to bolster its strategic expansion and operational excellence within the energy sector.\\n            Introduction:\\n            We propose to construct a state-of-the-art facility that reflects ExxonMobil's commitment to innovation, sustainability, and global leadership in energy. The project will span a meticulously selected 35,000-square-foot site in Houston, Texas, with the potential to become a landmark of industrial prowess and architectural ingenuity.\\n            Project Team:\\n            Leading the project will be Chief Project Engineer, Thomas Booker, with over two decades of experience in industrial construction. Architectural design will be spearheaded by Ava Clarke, whose portfolio includes several LEED-certified buildings across Dallas. Our environmental engineering efforts will be led by Dylan Rhodes in Austin, ensuring adherence to the most stringent ecological standards.\\n            Site and Structure:\\n            The facility will be located in the heart of Houston’s Energy Corridor, taking advantage of the area's rich infrastructure and proximity to ExxonMobil’s main operations. Geotechnical assessments and site preparation will be undertaken by San Antonio-based expert, Nora Quintana. The building's framework, designed for resilience and adaptability, will be overseen by structural engineer Alex Johnson from Fort Worth.\\n            Sustainability and Environment:\\n            Sustainability Coordinator, Rachel LocationName11tos from Corpus Christi, will implement cutting-edge green technologies, including a state-of-the-art HVAC system designed by El Paso's mechanical engineer, Omar Fernandez. Rainwater harvesting and waste management systems will be developed in collaboration with environmental specialists from Galveston \\n            Email address: test@gmail.com\\n            123-456-7890\\n            \""
      ]
     },
     "execution_count": 3,
     "metadata": {},
     "output_type": "execute_result"
    }
   ],
   "source": [
    "cls = DetectEntity(sample_doc)\n",
    "cls.Detect()\n",
    "cls.RemoveDetected()\n",
    "cls.InfillDetected(cls.text)\n"
   ]
  },
  {
   "cell_type": "code",
   "execution_count": 4,
   "metadata": {},
   "outputs": [
    {
     "data": {
      "text/plain": [
       "\"\\n           OrganizationName1 Infrastructure Development Proposal\\n            Executive Summary:\\n            This comprehensive proposal envisions the construction of OrganizationName1's new operational hub, designed to bolster its strategic expansion and operational excellence within the energy sector.\\n            Introduction:\\n            We propose to construct a state-of-the-art facility that reflects OrganizationName1's commitment to innovation, sustainability, and global leadership in energy. The project will span a meticulously selected 35,000-square-foot site in LocationName8, PersonName12, with the potential to become a landmark of industrial prowess and architectural ingenuity.\\n            Project Team:\\n            Leading the project will be Chief Project Engineer, PersonName13 PersonName4, with over two decades of experience in industrial construction. Architectural design will be spearheaded by PersonName3 LocationName3, whose portfolio includes several LEED-certified buildings across PersonName5. Our environmental engineering efforts will be led by PersonName6 LocationName10 in LocationName1, ensuring adherence to the most stringent ecological standards.\\n            Site and Structure:\\n            The facility will be located in the heart of LocationName8’s Energy Corridor, taking advantage of the area's rich infrastructure and proximity to OrganizationName1’s main operations. Geotechnical assessments and site preparation will be undertaken by LocationName11 PersonName2-based expert, PersonName7 PersonName10. The building's framework, designed for resilience and adaptability, will be overseen by structural engineer PersonName1 LocationName9 from LocationName7 PersonName14.\\n            Sustainability and Environment:\\n            Sustainability Coordinator, PersonName11 LocationName11tos from LocationName4 LocationName2, will implement cutting-edge green technologies, including a state-of-the-art HVAC system designed by LocationName5 PersonName9's mechanical engineer, PersonName8 LocationName6. Rainwater harvesting and waste management systems will be developed in collaboration with environmental specialists from OrganizationName2 \\n            Email address: test@gmail.com\\n            123-456-7890\\n            \""
      ]
     },
     "execution_count": 4,
     "metadata": {},
     "output_type": "execute_result"
    }
   ],
   "source": [
    "cls.text"
   ]
  },
  {
   "cell_type": "code",
   "execution_count": 5,
   "metadata": {},
   "outputs": [
    {
     "name": "stdout",
     "output_type": "stream",
     "text": [
      "Who is PersonName11 LocationName12?\n",
      "\n",
      "                    Rachel is designated as the Sustainability Coordinator for the proposed construction of ExxonMobil's \n",
      "                        new operational hub. They are based in Johnson, within the region of Corpus Christi.\n",
      "                        Their role involves implementing cutting-edge green technologies in the facility, including a \n",
      "                        state-of-the-art HVAC system. This system is designed by the mechanical engineer, Omar, from\n",
      "                        Galveston. Rachel's responsibilities also include overseeing the development of rainwater\n",
      "                        harvesting and waste management systems, in collaboration with environmental specialists from\n",
      "                        OrganizationName3. This indicates that Rachel is likely to have a background in environmental\n",
      "                        engineering or sustainability practices, and is tasked with ensuring that the new facility meets high\n",
      "                        environmental standards and incorporates sustainable practices into its design and operation.\n",
      "\n"
     ]
    }
   ],
   "source": [
    "print(cls.UserPromptReplace(\"Who is Rachel Santos?\"))\n",
    "print(cls.ReplyToUser(\"\"\"\n",
    "                    PersonName11 is designated as the Sustainability Coordinator for the proposed construction of OrganizationName1's \n",
    "                        new operational hub. They are based in LocationName9, within the region of LocationName4 LocationName2.\n",
    "                        Their role involves implementing cutting-edge green technologies in the facility, including a \n",
    "                        state-of-the-art HVAC system. This system is designed by the mechanical engineer, PersonName8, from\n",
    "                        OrganizationName2. PersonName11's responsibilities also include overseeing the development of rainwater\n",
    "                        harvesting and waste management systems, in collaboration with environmental specialists from\n",
    "                        OrganizationName3. This indicates that PersonName11 is likely to have a background in environmental\n",
    "                        engineering or sustainability practices, and is tasked with ensuring that the new facility meets high\n",
    "                        environmental standards and incorporates sustainable practices into its design and operation.\n",
    "\"\"\"))"
   ]
  },
  {
   "cell_type": "code",
   "execution_count": 6,
   "metadata": {},
   "outputs": [],
   "source": [
    "# cls.ReplyToUser(\"Who is PersonName11 LocationName13?\")"
   ]
  },
  {
   "cell_type": "code",
   "execution_count": 7,
   "metadata": {},
   "outputs": [
    {
     "data": {
      "text/plain": [
       "'What was the role of PersonName11 LocationName12?'"
      ]
     },
     "execution_count": 7,
     "metadata": {},
     "output_type": "execute_result"
    }
   ],
   "source": [
    "cls.UserPromptReplace(\"What was the role of Rachel Santos?\")"
   ]
  },
  {
   "cell_type": "code",
   "execution_count": 8,
   "metadata": {},
   "outputs": [
    {
     "data": {
      "text/plain": [
       "{'email': [{'original': 'test@gmail.com', 'replaced': '_Email_0'}],\n",
       " 'number': [{'original': '123-456-7890', 'replaced': '0000000000'}],\n",
       " 'Organization_Name': [{'original': 'ExxonMobil',\n",
       "   'replaced': 'OrganizationName1'},\n",
       "  {'original': 'Galveston', 'replaced': 'OrganizationName2'}],\n",
       " 'Identification_Number': [],\n",
       " 'location': [{'original': 'Austin', 'replaced': 'LocationName1'},\n",
       "  {'original': 'Christi', 'replaced': 'LocationName2'},\n",
       "  {'original': 'Clarke', 'replaced': 'LocationName3'},\n",
       "  {'original': 'Corpus', 'replaced': 'LocationName4'},\n",
       "  {'original': 'El', 'replaced': 'LocationName5'},\n",
       "  {'original': 'Fernandez', 'replaced': 'LocationName6'},\n",
       "  {'original': 'Fort', 'replaced': 'LocationName7'},\n",
       "  {'original': 'Houston', 'replaced': 'LocationName8'},\n",
       "  {'original': 'Johnson', 'replaced': 'LocationName9'},\n",
       "  {'original': 'Rhodes', 'replaced': 'LocationName10'},\n",
       "  {'original': 'San', 'replaced': 'LocationName11'},\n",
       "  {'original': 'Santos', 'replaced': 'LocationName12'}],\n",
       " 'Person_Name': [{'original': 'Alex', 'replaced': 'PersonName1'},\n",
       "  {'original': 'Antonio', 'replaced': 'PersonName2'},\n",
       "  {'original': 'Ava', 'replaced': 'PersonName3'},\n",
       "  {'original': 'Booker', 'replaced': 'PersonName4'},\n",
       "  {'original': 'Dallas', 'replaced': 'PersonName5'},\n",
       "  {'original': 'Dylan', 'replaced': 'PersonName6'},\n",
       "  {'original': 'Nora', 'replaced': 'PersonName7'},\n",
       "  {'original': 'Omar', 'replaced': 'PersonName8'},\n",
       "  {'original': 'Paso', 'replaced': 'PersonName9'},\n",
       "  {'original': 'Quintana', 'replaced': 'PersonName10'},\n",
       "  {'original': 'Rachel', 'replaced': 'PersonName11'},\n",
       "  {'original': 'Texas', 'replaced': 'PersonName12'},\n",
       "  {'original': 'Thomas', 'replaced': 'PersonName13'},\n",
       "  {'original': 'Worth', 'replaced': 'PersonName14'}]}"
      ]
     },
     "execution_count": 8,
     "metadata": {},
     "output_type": "execute_result"
    }
   ],
   "source": [
    "cls.replacedData "
   ]
  },
  {
   "cell_type": "code",
   "execution_count": 9,
   "metadata": {},
   "outputs": [],
   "source": [
    "from transformers import AutoTokenizer, AutoModelForTokenClassification\n",
    "from transformers import pipeline\n",
    "\n",
    "tokenizer = AutoTokenizer.from_pretrained(\"Babelscape/wikineural-multilingual-ner\")\n",
    "model = AutoModelForTokenClassification.from_pretrained(\"Babelscape/wikineural-multilingual-ner\")\n",
    "\n"
   ]
  },
  {
   "cell_type": "code",
   "execution_count": 10,
   "metadata": {},
   "outputs": [
    {
     "name": "stderr",
     "output_type": "stream",
     "text": [
      "c:\\Users\\SSajedi\\Anaconda3\\envs\\tor2\\lib\\site-packages\\transformers\\pipelines\\token_classification.py:169: UserWarning: `grouped_entities` is deprecated and will be removed in version v5.0.0, defaulted to `aggregation_strategy=\"simple\"` instead.\n",
      "  warnings.warn(\n"
     ]
    },
    {
     "name": "stdout",
     "output_type": "stream",
     "text": [
      "[{'entity_group': 'ORG', 'score': 0.7009762, 'word': 'ExxonMobil Infrastructure', 'start': 12, 'end': 37}, {'entity_group': 'MISC', 'score': 0.71816903, 'word': 'Development Proposal Executive Summary', 'start': 38, 'end': 88}, {'entity_group': 'ORG', 'score': 0.98027724, 'word': 'ExxonMobil', 'start': 160, 'end': 170}, {'entity_group': 'ORG', 'score': 0.98713803, 'word': 'ExxonMobil', 'start': 395, 'end': 405}, {'entity_group': 'LOC', 'score': 0.9977514, 'word': 'Houston', 'start': 556, 'end': 563}, {'entity_group': 'LOC', 'score': 0.9959943, 'word': 'Texas', 'start': 565, 'end': 570}, {'entity_group': 'PER', 'score': 0.995435, 'word': 'Thomas Booker', 'start': 753, 'end': 766}, {'entity_group': 'PER', 'score': 0.99350244, 'word': 'Ava Clarke', 'start': 876, 'end': 886}, {'entity_group': 'LOC', 'score': 0.98180133, 'word': 'Dallas', 'start': 953, 'end': 959}, {'entity_group': 'PER', 'score': 0.990591, 'word': 'Dylan Rhodes', 'start': 1014, 'end': 1026}, {'entity_group': 'LOC', 'score': 0.9814108, 'word': 'Austin', 'start': 1030, 'end': 1036}, {'entity_group': 'LOC', 'score': 0.356907, 'word': 'Site', 'start': 1113, 'end': 1117}, {'entity_group': 'LOC', 'score': 0.3459885, 'word': 'Structure', 'start': 1122, 'end': 1131}, {'entity_group': 'LOC', 'score': 0.9659919, 'word': 'Houston', 'start': 1190, 'end': 1197}, {'entity_group': 'LOC', 'score': 0.89166427, 'word': 'Energy Corridor', 'start': 1200, 'end': 1215}, {'entity_group': 'ORG', 'score': 0.9780013, 'word': 'ExxonMobil', 'start': 1285, 'end': 1295}, {'entity_group': 'LOC', 'score': 0.95872056, 'word': 'San Antonio', 'start': 1383, 'end': 1394}, {'entity_group': 'PER', 'score': 0.9969914, 'word': 'Nora Quintana', 'start': 1409, 'end': 1422}, {'entity_group': 'PER', 'score': 0.9967533, 'word': 'Alex Johnson', 'start': 1532, 'end': 1544}, {'entity_group': 'LOC', 'score': 0.98903954, 'word': 'Fort Worth', 'start': 1550, 'end': 1560}, {'entity_group': 'ORG', 'score': 0.6090383, 'word': 'Sustainability and Environment', 'start': 1574, 'end': 1604}, {'entity_group': 'ORG', 'score': 0.49720827, 'word': '##tainability', 'start': 1621, 'end': 1632}, {'entity_group': 'PER', 'score': 0.9927366, 'word': 'Rachel Santos', 'start': 1646, 'end': 1659}, {'entity_group': 'LOC', 'score': 0.97580516, 'word': 'Corpus Christi', 'start': 1665, 'end': 1679}, {'entity_group': 'LOC', 'score': 0.68331444, 'word': 'El Paso', 'start': 1782, 'end': 1789}, {'entity_group': 'PER', 'score': 0.99192256, 'word': 'Omar Fernandez', 'start': 1813, 'end': 1827}, {'entity_group': 'LOC', 'score': 0.7474706, 'word': 'Galveston', 'start': 1950, 'end': 1959}]\n"
     ]
    }
   ],
   "source": [
    "nlp = pipeline(\"ner\", model=model, tokenizer=tokenizer, grouped_entities=True)\n",
    "example = sample_doc\n",
    "\n",
    "ner_results = nlp(example)\n",
    "print(ner_results)"
   ]
  },
  {
   "cell_type": "code",
   "execution_count": 36,
   "metadata": {},
   "outputs": [],
   "source": [
    "import re\n",
    "from transformers import AutoTokenizer, AutoModelForTokenClassification\n",
    "from transformers import pipeline\n",
    "\n",
    "class Anonymizer:\n",
    "    def __init__(self, model_name=r\"Babelscape/wikineural-multilingual-ner\"):\n",
    "        self.tokenizer = AutoTokenizer.from_pretrained(model_name)\n",
    "        self.model = AutoModelForTokenClassification.from_pretrained(model_name)\n",
    "        self.nlp = pipeline(\"ner\", model=self.model, tokenizer=self.tokenizer, grouped_entities=True)\n",
    "        self.entity_counters = {}\n",
    "        self.anonymization_map = {}\n",
    "        self.deanonymization_map = {}\n",
    "        self.phone_regex = re.compile(r'\\b(?:\\+?(\\d{1,3}))?[-. (]*(\\d{3})[-. )]*(\\d{3})[-. ]*(\\d{4})(?: *x(\\d+))?\\b')\n",
    "        self.email_regex = re.compile(r'[A-Za-z0-9._%+-]+@[A-Za-z0-9.-]+\\.[A-Z|a-z]{2,}')\n",
    "\n",
    "    def _split_text(self, text, chunk_size=60):\n",
    "        words = text.split()\n",
    "        for i in range(0, len(words), chunk_size):\n",
    "            yield ' '.join(words[i:i+chunk_size])\n",
    "\n",
    "    def _get_anonymized_label(self, entity_group):\n",
    "        if entity_group not in self.entity_counters:\n",
    "            self.entity_counters[entity_group] = 1\n",
    "        anonymized_label = f\"{entity_group.lower()}{self.entity_counters[entity_group]}\"\n",
    "        self.entity_counters[entity_group] += 1\n",
    "        return anonymized_label\n",
    "\n",
    "    def _anonymize_with_regex(self, text, regex, entity_group):\n",
    "        matches = regex.finditer(text)\n",
    "        shift = 0\n",
    "        for match in matches:\n",
    "            entity_text = match.group()\n",
    "            if entity_text not in self.anonymization_map:\n",
    "                anonymized_label = self._get_anonymized_label(entity_group)\n",
    "                self.anonymization_map[entity_text] = anonymized_label\n",
    "                self.deanonymization_map[anonymized_label] = entity_text\n",
    "\n",
    "            start, end = match.span()\n",
    "            start += shift\n",
    "            end += shift\n",
    "            text = text[:start] + self.anonymization_map[entity_text] + text[end:]\n",
    "            shift += len(self.anonymization_map[entity_text]) - (end - start)\n",
    "\n",
    "        return text\n",
    "\n",
    "    def _anonymize_chunk(self, chunk, entity_types):\n",
    "        # Anonymize phone numbers and emails first\n",
    "        if 'PHONE-NUM' in entity_types:\n",
    "            chunk = self._anonymize_with_regex(chunk, self.phone_regex, 'PHONE-NUM')\n",
    "        if 'EMAIL' in entity_types:\n",
    "            chunk = self._anonymize_with_regex(chunk, self.email_regex, 'EMAIL')\n",
    "\n",
    "        # Proceed with NER-based anonymization\n",
    "        ner_results = self.nlp(chunk)\n",
    "        shift = 0\n",
    "        for entity in ner_results:\n",
    "            if entity['entity_group'] in entity_types:\n",
    "                entity_text = entity['word']\n",
    "                if entity_text not in self.anonymization_map:\n",
    "                    anonymized_label = self._get_anonymized_label(entity['entity_group'])\n",
    "                    self.anonymization_map[entity_text] = anonymized_label\n",
    "                    self.deanonymization_map[anonymized_label] = entity_text\n",
    "\n",
    "                start = entity['start'] + shift\n",
    "                end = entity['end'] + shift\n",
    "                chunk = chunk[:start] + self.anonymization_map[entity_text] + chunk[end:]\n",
    "                shift += len(self.anonymization_map[entity_text]) - (end - start)\n",
    "\n",
    "        return chunk\n",
    "\n",
    "    def anonymize(self, text, entity_types, chunk_size=60):\n",
    "        chunks = list(self._split_text(text, chunk_size=chunk_size))\n",
    "        anonymized_chunks = []\n",
    "\n",
    "        for chunk in chunks:\n",
    "            anonymized_chunk = self._anonymize_chunk(chunk, entity_types)\n",
    "            anonymized_chunks.append(anonymized_chunk)\n",
    "\n",
    "        return ' '.join(anonymized_chunks)\n",
    "\n",
    "    def deanonymize(self, anonymized_text):\n",
    "        for anonymized_entity, original_entity in self.deanonymization_map.items():\n",
    "            anonymized_text = anonymized_text.replace(anonymized_entity, original_entity)\n",
    "        return anonymized_text\n",
    "\n",
    "    def get_anonymization_map(self):\n",
    "        return self.anonymization_map\n"
   ]
  },
  {
   "cell_type": "code",
   "execution_count": 37,
   "metadata": {},
   "outputs": [
    {
     "name": "stdout",
     "output_type": "stream",
     "text": [
      "Anonymized Text: org1 Infrastructure Development Proposal Executive Summary: This comprehensive proposal envisions the construction of org1's new operational hub, designed to bolster its strategic expansion and operational excellence within the energy sector. Introduction: We propose to construct a state-of-the-art facility that reflects org1's commitment to innovation, sustainability, and global leadership in energy. The project will span a meticulously selected 35,000-square-foot site in loc1, loc2, with the potential to become a landmark of industrial prowess and architectural ingenuity. Project Team: Leading the project will be Chief Project Engineer, per1, with over two decades of experience in industrial construction. Architectural design will be spearheaded by per2, whose portfolio includes several LEED-certified buildings across loc3. Our environmental engineering efforts will be led by per3 in loc4, ensuring adherence to the most stringent ecological standards. Site loc5: The facility will be located in the heart of loc1’s loc6, taking advantage of the area's rich infrastructure and proximity to org1’s main operations. Geotechnical assessments and site preparation will be undertaken by loc7-based expert, per4. The building's framework, designed for resilience and adaptability, will be overseen by structural engineer per5 from loc8. org2: Susorg3ability Coordinator, per6 from loc9, will implement cutting-edge green technologies, including a state-of-the-art HVAC system designed by org4's mechanical engineer, per7. Rainwater harvesting and waste management systems will be developed in collaboration with environmental specialists from org5 address: email1 123-456-7890\n",
      "De-anonymized Text: ExxonMobil Infrastructure Development Proposal Executive Summary: This comprehensive proposal envisions the construction of ExxonMobil's new operational hub, designed to bolster its strategic expansion and operational excellence within the energy sector. Introduction: We propose to construct a state-of-the-art facility that reflects ExxonMobil's commitment to innovation, sustainability, and global leadership in energy. The project will span a meticulously selected 35,000-square-foot site in Houston, Texas, with the potential to become a landmark of industrial prowess and architectural ingenuity. Project Team: Leading the project will be Chief Project Engineer, Thomas Booker, with over two decades of experience in industrial construction. Architectural design will be spearheaded by Ava Clarke, whose portfolio includes several LEED-certified buildings across Dallas. Our environmental engineering efforts will be led by Dylan Rhodes in Austin, ensuring adherence to the most stringent ecological standards. Site and Structure: The facility will be located in the heart of Houston’s Energy Corridor, taking advantage of the area's rich infrastructure and proximity to ExxonMobil’s main operations. Geotechnical assessments and site preparation will be undertaken by San Antonio-based expert, Nora Quintana. The building's framework, designed for resilience and adaptability, will be overseen by structural engineer Alex Johnson from Fort Worth. Sustainability and Environment: Sus##tainability Coordinator, Rachel Santos from Corpus Christi, will implement cutting-edge green technologies, including a state-of-the-art HVAC system designed by El Paso's mechanical engineer, Omar Fernandez. Rainwater harvesting and waste management systems will be developed in collaboration with environmental specialists from Galveston Email address: test@gmail.com 123-456-7890\n"
     ]
    }
   ],
   "source": [
    "# Example usage:\n",
    "anonymizer = Anonymizer()\n",
    "\n",
    "text = sample_doc\n",
    "entity_types_to_anonymize = ['PER', 'LOC','ORG','EMAIL']  # User specifies which entity types to anonymize\n",
    "\n",
    "anonymized_text = anonymizer.anonymize(text, entity_types_to_anonymize)\n",
    "print(\"Anonymized Text:\", anonymized_text)\n",
    "\n",
    "deanonymized_text = anonymizer.deanonymize(anonymized_text)\n",
    "print(\"De-anonymized Text:\", deanonymized_text)"
   ]
  },
  {
   "cell_type": "code",
   "execution_count": 38,
   "metadata": {},
   "outputs": [
    {
     "data": {
      "text/plain": [
       "{'org1': 'ExxonMobil',\n",
       " 'loc1': 'Houston',\n",
       " 'loc2': 'Texas',\n",
       " 'per1': 'Thomas Booker',\n",
       " 'per2': 'Ava Clarke',\n",
       " 'loc3': 'Dallas',\n",
       " 'per3': 'Dylan Rhodes',\n",
       " 'loc4': 'Austin',\n",
       " 'loc5': 'and Structure',\n",
       " 'loc6': 'Energy Corridor',\n",
       " 'loc7': 'San Antonio',\n",
       " 'per4': 'Nora Quintana',\n",
       " 'email1': 'test@gmail.com',\n",
       " 'per5': 'Alex Johnson',\n",
       " 'loc8': 'Fort Worth',\n",
       " 'org2': 'Sustainability and Environment',\n",
       " 'org3': '##tain',\n",
       " 'per6': 'Rachel Santos',\n",
       " 'loc9': 'Corpus Christi',\n",
       " 'org4': 'El Paso',\n",
       " 'per7': 'Omar Fernandez',\n",
       " 'org5': 'Galveston Email'}"
      ]
     },
     "execution_count": 38,
     "metadata": {},
     "output_type": "execute_result"
    }
   ],
   "source": [
    "anonymizer.deanonymization_map"
   ]
  },
  {
   "cell_type": "code",
   "execution_count": null,
   "metadata": {},
   "outputs": [],
   "source": []
  }
 ],
 "metadata": {
  "kernelspec": {
   "display_name": "tor2",
   "language": "python",
   "name": "python3"
  },
  "language_info": {
   "codemirror_mode": {
    "name": "ipython",
    "version": 3
   },
   "file_extension": ".py",
   "mimetype": "text/x-python",
   "name": "python",
   "nbconvert_exporter": "python",
   "pygments_lexer": "ipython3",
   "version": "3.9.18"
  }
 },
 "nbformat": 4,
 "nbformat_minor": 2
}
